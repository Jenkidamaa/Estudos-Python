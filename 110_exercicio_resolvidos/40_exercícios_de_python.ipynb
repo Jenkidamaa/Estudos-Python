{
  "nbformat": 4,
  "nbformat_minor": 0,
  "metadata": {
    "colab": {
      "name": "40 exercícios de python.ipynb",
      "provenance": [],
      "collapsed_sections": []
    },
    "kernelspec": {
      "name": "python3",
      "display_name": "Python 3"
    },
    "language_info": {
      "name": "python"
    }
  },
  "cells": [
    {
      "cell_type": "code",
      "metadata": {
        "id": "F4dZ5YM6XW3l"
      },
      "source": [
        "#Exercicio 5\n",
        "# Imprimir antecessor e sucessor de um número\n",
        "\n",
        "n = int(input(\"Digite o valor do número inteiro: \"))\n",
        "\n",
        "print(\"Analisando o valor {}, seu antecessor é {} e o sucessor é {}\"\n",
        ".format(n, (n-1),(n+1)))"
      ],
      "execution_count": null,
      "outputs": []
    },
    {
      "cell_type": "code",
      "source": [
        "#Exercicio 6\n",
        "#Imprimr o numero de entrada do usuario , o dobro, triplo e raiz\n",
        "\n",
        "n = int(input())\n",
        "print(\n",
        "    \"O dobro de {} vale {}.\\nO triplo de {} vale {}.\\nA raiz quadrada de {} é igual a {}.\" \n",
        "    .format(n, (n**2),n,(n**3),n,(n**(1/2)))\n",
        ")"
      ],
      "metadata": {
        "id": "4P9Avftwcn4z"
      },
      "execution_count": null,
      "outputs": []
    },
    {
      "cell_type": "code",
      "source": [
        "#exercicio 7\n",
        "#Média de 2 notas\n",
        "\n",
        "n1 = float(input(\"Digite a primeira nota:\"))\n",
        "n2 = float(input(\"Digite a segunda nota: \"))\n",
        "média = float((n1+n2/2))\n",
        "print(\"A média das notas é {:.2f}\" .format(média))\n"
      ],
      "metadata": {
        "id": "2gsYeHTFe3y6"
      },
      "execution_count": null,
      "outputs": []
    },
    {
      "cell_type": "code",
      "source": [
        "#Exercicio 8 \n",
        "#Redimensionador de distância\n",
        "m = int(input(\"Entre com a distância em metros \"))\n",
        "km = m/1000\n",
        "hm = m/100\n",
        "dm = m/10\n",
        "am = m*10\n",
        "cm = m*100\n",
        "mm = m*1000\n",
        "print(\"{:.3f} km.\\n{:.2f} hm.\\n{:.1f} dm.\\n{} am.\\n{} cm.\\n{} mm.\"\n",
        ".format(km,hm,dm, am, cm, mm))\n"
      ],
      "metadata": {
        "id": "Vb6EhxVQgk1z"
      },
      "execution_count": null,
      "outputs": []
    },
    {
      "cell_type": "code",
      "source": [
        "#exercicio 9\n",
        "# Printar forma tabuada formatada\n",
        "n = int(input(\"Digite o valor da tabuada: \"))\n",
        "print(\"-\"*30)\n",
        "for i in range(0,11,1):\n",
        "  print(\"{} X {} = {}\".format(n,i,(n*i)))\n",
        "print(\"-\"*30)"
      ],
      "metadata": {
        "id": "yt7H2cHsiWLa"
      },
      "execution_count": null,
      "outputs": []
    },
    {
      "cell_type": "code",
      "source": [
        "#exercicio 10\n",
        "#Quanto resta de dinheiro na carteira ?\n",
        "din = float(input(\"Quanto dinheiro você tem na carteira?\"))\n",
        "dolar = din/5.5\n",
        "print(\"Com R${:.2f} você pode comprar US${:.2f}.\".format(din, dolar))"
      ],
      "metadata": {
        "id": "e11BcK-gkA_3"
      },
      "execution_count": null,
      "outputs": []
    },
    {
      "cell_type": "code",
      "source": [
        "#Exercicio 11\n",
        "#Quantos litros de tinta são nescessarios para pintar a parede ?\n",
        "l = float(input(\"Largura da parede: \"))\n",
        "h = float(input(\"Altura da parede: \"))\n",
        "print(\"Sua parede tem a dimensão de {}X{} e sua área é de {:.3f}M2.\"\n",
        ".format(l,h,(l*h)))\n",
        "print(\"Para pintar a parede, você precisa de {:.4f}l de tinta\"\n",
        ".format(l*h/2))"
      ],
      "metadata": {
        "id": "mgeNO7BOk5Pu"
      },
      "execution_count": null,
      "outputs": []
    },
    {
      "cell_type": "code",
      "source": [
        "#exercicio 12\n",
        "#Qual o valor do desconto ??\n",
        "p = float(input(\"Qual é o preço do produto? R$\"))\n",
        "print(\"O produto que custava R${}, promoção com desconto de 5% vai custar R${:.2f}\"\n",
        ".format(p, (p*0.95)))"
      ],
      "metadata": {
        "id": "43pMdudnnV_s"
      },
      "execution_count": null,
      "outputs": []
    },
    {
      "cell_type": "code",
      "source": [
        "#exercicio 13\n",
        "#Qual o valor do aumento?\n",
        "s = float(input(\"Qual é o salário do Funcionário? R$\"))\n",
        "print(\"Um funcionário que ganhava R${}, com 15% de aumento, passa a receber R${:.2f}.\"\n",
        ".format(s, (s*1.15)))"
      ],
      "metadata": {
        "id": "SLcoXLIIoVG8"
      },
      "execution_count": null,
      "outputs": []
    },
    {
      "cell_type": "code",
      "source": [
        "#exercicio 14\n",
        "#Conversor de temperatura C para F\n",
        "c = float(input(\"Digite o valor da temperatura em graus C \"))\n",
        "f = c*1.8+32\n",
        "print(\"A conversão da temperatura é igual a {:.2f} f\".format(f))"
      ],
      "metadata": {
        "id": "JgPISw6rpSLg"
      },
      "execution_count": null,
      "outputs": []
    },
    {
      "cell_type": "code",
      "source": [
        "#exercicios 15\n",
        "#Aluguel de carro\n",
        "d = int(input(\"Quantos dias alugados?\"))\n",
        "km = int(input(\"Quantos Km rodados?\"))\n",
        "print(\"O total a pagar é de R${:.2f}\".format((60*d)+(km*0.15)))"
      ],
      "metadata": {
        "id": "47s72ptBqnbg"
      },
      "execution_count": null,
      "outputs": []
    },
    {
      "cell_type": "code",
      "source": [
        "#Exercicio 15\n",
        "#Parte inteira de um numero\n",
        "n = float(input(\"Digite um valor: \"))\n",
        "print(\"O valor digitado foi {} e a sua porção inteira é {:.0f}\"\n",
        ".format(n,n))"
      ],
      "metadata": {
        "id": "B3q6Q6Q7sFL9"
      },
      "execution_count": null,
      "outputs": []
    },
    {
      "cell_type": "code",
      "source": [
        "#Exercicio 16\n",
        "#Encontre a hipotenusa\n",
        "a = float(input(\"O valor do cateto oposto: \"))\n",
        "b = float(input(\"O valor do cateto adjacente: \"))\n",
        "print(\"O valor da hipotenusa é {:.2f}\"\n",
        ".format(((a**2)+(b**2))**(1/2)))"
      ],
      "metadata": {
        "id": "P1CFm_3Ztcc7"
      },
      "execution_count": null,
      "outputs": []
    },
    {
      "cell_type": "code",
      "source": [
        "#Exercicio 17\n",
        "#Achando seno , cos, tg\n",
        "import math\n",
        "angulo = float(input(\"Digite o valor do angulo: \"))\n",
        "seno = math.sin(math.radians(angulo))\n",
        "print(\"O angulo de {} tem o seno de {:.2f}\" . format(angulo, seno))\n",
        "cosseno = math.cos(math.radians(angulo))\n",
        "print(\"O angulo de {} tem o cosseno de {:.2f}\" . format(angulo, cosseno))\n",
        "tangente = math.tan(math.radians(angulo))\n",
        "print(\"O angulo de {} tem a tangente de {:.2f}\" . format(angulo, tangente))"
      ],
      "metadata": {
        "id": "0vhbYPnSucU8"
      },
      "execution_count": null,
      "outputs": []
    },
    {
      "cell_type": "code",
      "source": [
        "#Exercicio 18\n",
        "#Sorteando aluno para apagar a lousa\n",
        "import random\n",
        "def aluno():\n",
        "  lista_alunos=[]\n",
        "  for i in range(4):\n",
        "    a = str(input())\n",
        "    lista_alunos.append(a)\n",
        "  b = int(random.randrange(4))\n",
        "  return lista_alunos[b]\n",
        "print(\"O aluno escolhido para limpar a lousa é: \"+aluno())\n"
      ],
      "metadata": {
        "id": "dF69LERS-8cy"
      },
      "execution_count": null,
      "outputs": []
    },
    {
      "cell_type": "code",
      "source": [
        "#Excercicio 19\n",
        "#Professor quer sortear a ordem de apresentação de um trabalho \n",
        "def apresentação():\n",
        "  lista_alunos = []\n",
        "  ordem_apresentação = []\n",
        "  ordem = ['Primeiro',\"Segundo\",\"Terceiro\",\"Quarto\"]\n",
        "  a = 4\n",
        "  for i in range(4):\n",
        "    a = str(input(\"Digite o nome do aluno: \"))\n",
        "    lista_alunos.append(a)\n",
        "  for i in range(4):\n",
        "    elemento = random.choice(lista_alunos)\n",
        "    posição = ordem[i]\n",
        "    print(\"{} aluno a apresentar o trabalho é {}\".format(posição, elemento))\n",
        "    lista_alunos.remove(elemento)    \n",
        "  \n",
        "\n",
        "apresentação()\n",
        "  "
      ],
      "metadata": {
        "id": "TVpCAyGgC0et"
      },
      "execution_count": null,
      "outputs": []
    },
    {
      "cell_type": "code",
      "source": [
        "#Exercicio 20\n",
        "#listando strings\n",
        "nome = str(input(\"Digite seu nome completo: \")).strip()\n",
        "print(\"Seu nome em maiusculas é {}\".format(nome.upper()))\n",
        "print(\"Seu nome em minusculas é {}\".format(nome.lower()))\n",
        "print(\"Seu nome tem ao todo {} letras\".format(len(nome)-nome.count(\" \")))\n",
        "primeiro = nome.split()\n",
        "print(\"Seu primeiro nome é {} e ele tem {} letras\".format(primeiro[0],len(primeiro[0])))\n"
      ],
      "metadata": {
        "id": "-CqXEmlqSFBN"
      },
      "execution_count": null,
      "outputs": []
    },
    {
      "cell_type": "code",
      "source": [
        "#Exercicio 21\n",
        "#Desmontando número\n",
        "n = int(input(\"Digite um numero com quatro unidades: \"))\n",
        "unidade = n // 1 % 10\n",
        "dezena = n // 10 % 10\n",
        "centena = n // 100% 10\n",
        "milhar = n // 1000 % 10\n",
        "print(\"Unidade: {} dezena: {} centena: {} milhar: {}\".format(unidade, dezena,centena, milhar))"
      ],
      "metadata": {
        "id": "5ReJo3ylVDKv"
      },
      "execution_count": null,
      "outputs": []
    },
    {
      "cell_type": "code",
      "source": [
        "#Exercicio 22\n",
        "#Crie um programa que leia o nome de uma cidade diga se ela começa ou não com o nome \"SANTO\"\n",
        "cidade = str(input(\"Digite o nome da cidade: \").strip(\" \"))\n",
        "nome = cidade[:5].upper()\n",
        "print(nome == \"SANTO\")"
      ],
      "metadata": {
        "id": "AUeY1B1seWAz"
      },
      "execution_count": null,
      "outputs": []
    },
    {
      "cell_type": "code",
      "source": [
        "#Exercicio 23\n",
        "#Crie um programa que leia o nome de uma pessoa e diga se ela tem \"SILVA\" no nome.\n",
        "nome = str(input(\"Nome: \")).strip()\n",
        "s = nome.upper()\n",
        "if \"SILVA\" in s:\n",
        "  print(\"O nome {} contem a palavra Silva\".format(nome))\n",
        "else:\n",
        "  print(\"O nome {} não contem a palavra Silva.\".format(nome))"
      ],
      "metadata": {
        "id": "C7-DkoPVfctM"
      },
      "execution_count": null,
      "outputs": []
    },
    {
      "cell_type": "code",
      "source": [
        "#Exercicio 24\n",
        "#Quantas vezes aparece a letra A na frase\n",
        "#Posição do primeiro A na frase\n",
        "#Posição do ultimo A na frase\n",
        "frase = str(input(\"Frase: \"))\n",
        "f = frase.upper()\n",
        "print(\"Vezes que aparece a letra A: {}\".format(f.count(\"A\")))\n",
        "print(\"Posição do primeiro A na frase: {}\".format(f.find(\"A\")+1))\n",
        "print(\"Posição do ultimo A na frase: {}\".format(f.rfind(\"A\")+1))"
      ],
      "metadata": {
        "id": "kBVc0r_EfUI6"
      },
      "execution_count": null,
      "outputs": []
    },
    {
      "cell_type": "code",
      "source": [
        "#Exercicio 25\n",
        "#Programa que retorne a primeira e ultima parte do nome\n",
        "nome = str(input(\"Nome: \")).strip()\n",
        "s = nome.split()\n",
        "print(\"primeiro nome {} segundo nome {}\".format(s[0], [len[s]-1]))"
      ],
      "metadata": {
        "id": "ZNHb_-YfvkX3"
      },
      "execution_count": null,
      "outputs": []
    },
    {
      "cell_type": "code",
      "source": [
        " #Exercicio 26\n",
        " #\n",
        " import random\n",
        " n1 = random.randint(0,5)\n",
        " n2 = int(input(\"Insira o numero : \"))\n",
        " if n1 == n2:\n",
        "   print(\"Acertou\")\n",
        "else:\n",
        "  print(\"Errou\")"
      ],
      "metadata": {
        "id": "Wlm-MDRueMg1"
      },
      "execution_count": null,
      "outputs": []
    },
    {
      "cell_type": "code",
      "source": [
        "#Exercicio 27\n",
        "#Limite de velocidade , para v > 80 , 7$ por km\n",
        "v = int(input(\"Velocidade: \"))\n",
        "if v > 80:\n",
        "  print(\"Ele foi multado no valor de {}\".format((v-80)*7))\n",
        "else:\n",
        "  print(\"Dentro do limite de velocidade\")\n"
      ],
      "metadata": {
        "id": "T9HHrBmEZUWu"
      },
      "execution_count": null,
      "outputs": []
    },
    {
      "cell_type": "code",
      "source": [
        "#Exercicio 28\n",
        "#Numero é par ou impar ?\n",
        "n = int(input(\"Numero: \"))\n",
        "if n%2 == 0:\n",
        "  print(\"{} é par\".format(n))\n",
        "else:\n",
        "  print(\"{} é impar.\".format(n))"
      ],
      "metadata": {
        "id": "ByP_Om-_ZPBb"
      },
      "execution_count": null,
      "outputs": []
    },
    {
      "cell_type": "code",
      "source": [
        "#Exercicio 30\n",
        "d = float(input(\"Distancia: \"))\n",
        "if d < 200:\n",
        "  print(\"Preço da viagem é: {} \".format(0.5*d))\n",
        "else:\n",
        "  print(\"Preço da viagem é: {}\".format(0.4*d))"
      ],
      "metadata": {
        "id": "mIDtOPpyZK12"
      },
      "execution_count": null,
      "outputs": []
    },
    {
      "cell_type": "code",
      "source": [
        "#Exercicio 31\n",
        "#Diz se o numero é par ou impar\n",
        "n = int(input(\"Digite o n \"))\n",
        "if n%2 == 0:\n",
        "    print(\"{} é par\".format(n))\n",
        "else:\n",
        "    print(\"{} é impar\".format(n))\n"
      ],
      "metadata": {
        "id": "whLAy8agXZkh"
      },
      "execution_count": null,
      "outputs": []
    },
    {
      "cell_type": "code",
      "source": [
        "#Exercicio 30\n",
        "#Desenvolva um programa que pergunte a distância de uma viagem em Km. Calcule o preço da passagem, cobrando R$0,50 por Km para viagens de até 200Km e R$0,45 parta viagens mais longas.\n",
        "d = float(input(\"Digite a distância: \"))\n",
        "if d>200:\n",
        "    print(\"Valor cobrado {:.2f}\".format(d*0.5))\n",
        "else:\n",
        "    print(\"Valor cobrado {:.2f}\".format(d*0.45))\n",
        "    "
      ],
      "metadata": {
        "id": "jgcpGF3ZU-bX"
      },
      "execution_count": null,
      "outputs": []
    },
    {
      "cell_type": "code",
      "source": [
        "#Exercicio 31\n",
        "#Faça um programa que leia um ano qualquer e mostre se ele é bissexto.\n",
        "from datetime import date\n",
        "\n",
        "ano = int(input(\"Digite o ano: \"))\n",
        "if ano == 0:\n",
        "    ano = date.today().year\n",
        "if (ano % 4 == 0 and ano % 100 != 0) or ano % 400 == 0:\n",
        "    print(\"{} é bissexto.\".format(ano))\n",
        "else:\n",
        "    print(\"{} não é bissexto.\".format(ano))"
      ],
      "metadata": {
        "id": "Dsgfo7nGUk63"
      },
      "execution_count": null,
      "outputs": []
    },
    {
      "cell_type": "code",
      "source": [
        "#Exercicio 32\n",
        "#Faça um programa que leia três números e mostre qual é o maior e qual é o menor.\n",
        "lista = []\n",
        "for i in range(0,3,1):\n",
        "    n = int(input(\"digite n \"))\n",
        "    lista.append(n)\n",
        "maior = lista[0]\n",
        "menor = 999999999\n",
        "for i in range(1,3,1):\n",
        "    if maior < lista[i]:\n",
        "        maior = lista[i]\n",
        "for i in range(0,3,1):\n",
        "    if menor > lista[i]:\n",
        "        menor = lista[i]\n",
        "\n",
        "print(\"maior {}\" .format(maior))\n",
        "print(\"menor {}\".format(menor))\n"
      ],
      "metadata": {
        "id": "D8ylt0RRUTL-"
      },
      "execution_count": null,
      "outputs": []
    },
    {
      "cell_type": "markdown",
      "source": [
        "#Exercicio 35\n",
        "#Escreva um programa para aprovar o empréstimo bancário para a compra de uma casa. Pergunte o valor da casa, o salário do comprador e em quantos anos ele vai pagar. A prestação mensal não pode exceder 30% do salário ou então o empréstimo será negado.\n",
        "vc = float(input(\"Valor da casa: \"))\n",
        "sa = float(input(\"Salario: \"))\n",
        "anos = float(input(\"Anos para pagar: \"))\n",
        "p = vc/(anos*12)\n",
        "po = p/sa\n",
        "if po<0.3:\n",
        "  print(\"Emprestimo concedido!\")\n",
        "else:\n",
        "  print(\"Emprestimo negado!\")"
      ],
      "metadata": {
        "id": "MVqULf31jDBY"
      }
    },
    {
      "cell_type": "code",
      "source": [
        "#Exercicio 36\n",
        "#Escreva um programa em Python que leia um número inteiro qualquer e peça para o usuário escolher qual será a base de conversão: 1 para binário, 2 para octal e 3 para hexadecimal.\n",
        "a = int(input(\"Digite um numero: \"))\n",
        "index = input(\"Escolha a opção de conversão: \\n\"\n",
        "              \"1 - Binario\\n\"\n",
        "              \"2 - Octal\\n\"\n",
        "              \"3 - Hexadecimal\")\n",
        "if index == 1:\n",
        "    print(\"{} na base Binaria é igual a {} \".format(a, bin(a)))\n",
        "elif index == 2:\n",
        "    print(\"{} na base Octal é igual a {} \".format(a, oct(a)))\n",
        "elif index == 3:\n",
        "    print(\"{} na base Hexadecimal é igual a {} \".format(a, hex(a)))"
      ],
      "metadata": {
        "id": "5ffDrHihmxYF"
      },
      "execution_count": null,
      "outputs": []
    },
    {
      "cell_type": "code",
      "source": [
        "#Exercicio 37\n",
        "#Exercício Python 038: Escreva um programa que leia dois números inteiros e compare-os. mostrando na tela uma mensagem:\n",
        "#- O primeiro valor é maior\n",
        "#- O segundo valor é maior\n",
        "#- Não existe valor maior, os dois são iguais\n",
        "n1 = int(input(\"Digite o primeiro valor: \"))\n",
        "n2 = int(input(\"Digite o segundo valor: \"))\n",
        "if n1==n2:\n",
        "  print(\"Não existe valor maior, os dois são iguais\")\n",
        "elif n1 > n2:\n",
        "  print(\"O primeiro valor é maior\")\n",
        "else:\n",
        "  print(\"O segundo valor é maior\")"
      ],
      "metadata": {
        "colab": {
          "base_uri": "https://localhost:8080/"
        },
        "id": "t2Avxm8Dmq5t",
        "outputId": "56418550-980b-4696-9fba-11106b70de41"
      },
      "execution_count": null,
      "outputs": [
        {
          "output_type": "stream",
          "name": "stdout",
          "text": [
            "Digite o primeiro valor: 10\n",
            "Digite o segundo valor: 20\n",
            "O segundo valor é maior\n"
          ]
        }
      ]
    },
    {
      "cell_type": "code",
      "source": [
        "#Exercicio 38\n",
        "#Faça um programa que leia o ano de nascimento de um jovem e informe, de acordo com a sua idade, se ele ainda vai se alistar ao serviço militar, se é a hora exata de se alistar ou se já passou do tempo do alistamento. Seu programa também deverá mostrar o tempo que falta ou que passou do prazo.\n",
        "from datetime import date\n",
        "atual = date.today().year\n",
        "nasc = int(input(\"Ano de nascimento: \"))\n",
        "idade = atual - nasc\n",
        "print(\"Quem nasceu em {} tem {} anos em {}.\".format(nasc, idade, atual))\n",
        "if idade == 18:\n",
        "  print(\"Você tem que se alistar imediatamente\")\n",
        "if idade < 18:\n",
        "  saldo = 18 - idade\n",
        "  print(\"A idade faltam {} anos para o alistamento\".format(saldo))\n",
        "  ano = atual = saldo\n",
        "  print(\"Seu alistamento sera em {}\".format(ano))\n",
        "\n",
        "elif idade > 18:  \n",
        "  saldo = idade - 18\n",
        "  print(\"Você ja deveria ter se alistado a {} anos\".format(saldo))\n",
        "  ano = atual - saldo\n",
        "  print(\"Seu alistamento foi em {}\".format(ano))\n",
        "  "
      ],
      "metadata": {
        "id": "pmtXzQRWt-Eq"
      },
      "execution_count": null,
      "outputs": []
    },
    {
      "cell_type": "code",
      "source": [
        "#Exercicio 39\n",
        "#Crie um programa que leia duas notas de um aluno e calcule sua média, mostrando uma mensagem no final, de acordo com a média atingida:\n",
        "#- Média abaixo de 5.0: REPROVADO\n",
        "#- Média entre 5.0 e 6.9: RECUPERAÇÃO\n",
        "#- Média 7.0 ou superior: APROVADO\n",
        "nota1 = float(input(\"Insira a nota 1 : \"))\n",
        "nota2 = float(input(\"Insira a nota 2 : \"))\n",
        "media = (nota1 + nota2)/2\n",
        "if media >= 7:\n",
        "  print(\"Aprovado\")\n",
        "elif 5 <= media <= 6.9:\n",
        "  print(\"RECUPERAÇÃO\")\n",
        "else:\n",
        "  print(\"REPROVADO\")"
      ],
      "metadata": {
        "id": "r6tdEwklmS-A"
      },
      "execution_count": null,
      "outputs": []
    },
    {
      "cell_type": "code",
      "source": [
        "#Exercicio 40\n",
        "#A Confederação Nacional de Natação precisa de um programa que leia o ano de nascimento de um atleta e mostre sua categoria, de acordo com a idade:\n",
        "#- Até 9 anos: MIRIM\n",
        "#- Até 14 anos: INFANTIL\n",
        "#- Até 19 anos: JÚNIOR\n",
        "#- Até 25 anos: SÊNIOR\n",
        "#- Acima de 25 anos: MASTER\n",
        "idade = int(input(\"Insira a idade: \"))\n",
        "if 0 <= idade < 9:\n",
        "  print(\"MIRIM\")\n",
        "elif 9 <= idade < 14 :\n",
        "  print(\"INFANTIL\")\n",
        "elif 14 <= idade < 19 :\n",
        "  print(\"JÚNIOR\")\n",
        "elif 19 <= idade < 25:\n",
        "  print(\"SÊNIOR\")\n",
        "else:\n",
        "  print(\"MASTER\")\n"
      ],
      "metadata": {
        "id": "CKVMCDNNi9kW"
      },
      "execution_count": null,
      "outputs": []
    },
    {
      "cell_type": "code",
      "source": [
        "#Exercicio 41\n",
        "#Refaça o DESAFIO 035 dos triângulos, acrescentando o recurso de mostrar que tipo de triângulo será formado:\n",
        "#- EQUILÁTERO: todos os lados iguais\n",
        "#- ISÓSCELES: dois lados iguais, um diferente\n",
        "#- ESCALENO: todos os lados diferentes\n",
        "\n",
        "l1 = float(input(\"Lado 1 \"))\n",
        "l2 = float(input(\"Lado 2 \"))\n",
        "l3 = float(input(\"Lado 3 \"))\n",
        "\n",
        "if (l1 == l2 and l2 != l3) or (l2 == l3 and l1 != l3):\n",
        "  print(\"Isóceles\")\n",
        "elif li == l2 and l1 == l3:\n",
        "  print(\"Equilátero\")\n",
        "else:\n",
        "  print(\"Escaleno\")"
      ],
      "metadata": {
        "id": "yVB9Ei90imiI"
      },
      "execution_count": null,
      "outputs": []
    },
    {
      "cell_type": "code",
      "source": [
        "#Exercicio 42\n",
        "#Desenvolva uma lógica que leia o peso e a altura de uma pessoa, calcule seu Índice de Massa Corporal (IMC) e mostre seu status, de acordo com a tabela abaixo:\n",
        "#- IMC abaixo de 18,5: Abaixo do Peso\n",
        "#- Entre 18,5 e 25: Peso Ideal\n",
        "#- 25 até 30: Sobrepeso\n",
        "#- 30 até 40: Obesidade\n",
        "#- Acima de 40: Obesidade Mórbida\n",
        "peso = float(input(\"Insira o peso em KG :\"))\n",
        "altura = float(input(\"Altura em m: \"))\n",
        "imc = peso/(Altura**2)\n",
        "if imc < 18.5:\n",
        "  print(\"Abaixo do peso\")\n",
        "elif 18.5 <= imc <25:\n",
        "  print(\"Peso Ideal\")\n",
        "elif 25 <= imc <30:\n",
        "  print(\"Sobrepeso\")\n",
        "elif 30<= imc <40:\n",
        "  print(\"Obesidade\")\n",
        "else:\n",
        "  print(\"Obesidade Morbida\")"
      ],
      "metadata": {
        "id": "cDFo6YRlSpRg"
      },
      "execution_count": null,
      "outputs": []
    },
    {
      "cell_type": "code",
      "source": [
        "#Exercicio 43\n",
        "#Elabore um programa que calcule o valor a ser pago por um produto, considerando o seu preço normal e condição de pagamento:\n",
        "#- à vista dinheiro/cheque: 10% de desconto\n",
        "#- à vista no cartão: 5% de desconto\n",
        "#- em até 2x no cartão: preço formal\n",
        "#- 3x ou mais no cartão: 20% de juros\n",
        "valor = float(input(\"Valor do produto: \"))\n",
        "print(\"à vista dinheiro/cheque: 10% de desconto {:.2f}\".format(valor*0.9))\n",
        "print(\"à vista no cartão: 5% de desconto {:.2f}\".format(valor*0.95))\n",
        "print(\"em até 2x no cartão: preço formal {:.2f}\".format(valor))\n",
        "print(\"3x ou mais no cartão: 20% de juros  {:.2f} \".format(valor*1.2))\n"
      ],
      "metadata": {
        "id": "i6F9xi5mSAkn"
      },
      "execution_count": null,
      "outputs": []
    },
    {
      "cell_type": "code",
      "source": [
        "#Exercicio 44\n",
        "#Crie um programa que jogue joken po com o usuario\n",
        "import radom\n",
        "lista = [\"pedra\",\"papel\",\"tesoura\"]\n",
        "mão_maq = random.choice(lista)\n",
        "mão = str(input(\"Escolha entre papel,tesoura e pedra: \"))\n",
        "if (mão_maq == \"pedra\" and mão == \"pedra\") or (mão_maq == \"tesoura\" and mão == \"tesoura\") or (mão_maq == \"papel\" and mão == \"papel\") :\n",
        "  print(\"empate\")\n",
        "elif (mão_maq == \"pedra\" and mão == \"tesoura\") or (mão_maq == \"papel\" and mão == \"pedra\") or (mão_maq == \"tesoura\" and mão == \"papel\"):\n",
        "  print(\"Vitória da maquina\")\n",
        " \n",
        "elif (mão_maq == \"pedra\" and mão == \"papel\") or (mão_maq == \"papel\" and mão == \"tesoura\") or (mão_maq == \"tesoura\" and mão == \"pedra\"):\n",
        "  print(\"Parabéns você venceu!!!\")\n",
        "  "
      ],
      "metadata": {
        "id": "4-bMGG3CBH9p"
      },
      "execution_count": null,
      "outputs": []
    },
    {
      "cell_type": "code",
      "source": [
        "#Exercicio 45\n",
        "#Faça um programa que mostre na tela uma contagem regressiva para o estouro de fogos de artificio, indo de 10 até 0, com pausa de 1 segundo entre eles.\n",
        "from time import sleep\n",
        "for i in range(10,-1,-1):\n",
        "  print(i)\n",
        "  sleep(1)\n",
        "print(\"Feliz ano novo\")"
      ],
      "metadata": {
        "id": "qQ4u6sfmEfea"
      },
      "execution_count": null,
      "outputs": []
    },
    {
      "cell_type": "code",
      "source": [
        "#Exercicio 46\n",
        "#Crie um program que mostre na tela todos os numeros pares de 1 e 50.\n",
        "for i in range(1,51,1):\n",
        "  if i%2 == 0:\n",
        "    print(i)"
      ],
      "metadata": {
        "id": "9QQGky-KGfcX"
      },
      "execution_count": null,
      "outputs": []
    },
    {
      "cell_type": "code",
      "source": [
        "#Exercicio 47\n",
        "#Faça um programa que calcule a soma entre todos os numeros que são multiplos de 3 entre 1 e 500\n",
        "soma = 0\n",
        "c = 0\n",
        "for i in range(1,501,2\n",
        "              ):\n",
        "  if i % 3 == 0 :\n",
        "    soma = soma + i\n",
        "    c = c + 1\n",
        "    \n",
        "print(soma)\n",
        "print(c)"
      ],
      "metadata": {
        "id": "00gEjbzzIFBi"
      },
      "execution_count": null,
      "outputs": []
    }
  ]
}