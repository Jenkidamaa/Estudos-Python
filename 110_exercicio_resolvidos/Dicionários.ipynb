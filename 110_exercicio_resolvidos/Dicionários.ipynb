{
  "nbformat": 4,
  "nbformat_minor": 0,
  "metadata": {
    "colab": {
      "name": "Dicionários.ipynb",
      "provenance": [],
      "authorship_tag": "ABX9TyM/tsiI01eTWEsvATtmIhyn",
      "include_colab_link": true
    },
    "kernelspec": {
      "name": "python3",
      "display_name": "Python 3"
    },
    "language_info": {
      "name": "python"
    }
  },
  "cells": [
    {
      "cell_type": "markdown",
      "metadata": {
        "id": "view-in-github",
        "colab_type": "text"
      },
      "source": [
        "<a href=\"https://colab.research.google.com/github/Jenkidamaa/Estudos-Python/blob/main/Dicion%C3%A1rios.ipynb\" target=\"_parent\"><img src=\"https://colab.research.google.com/assets/colab-badge.svg\" alt=\"Open In Colab\"/></a>"
      ]
    },
    {
      "cell_type": "code",
      "metadata": {
        "colab": {
          "base_uri": "https://localhost:8080/"
        },
        "id": "X3mMMoaAb_4h",
        "outputId": "00be41e3-b30d-4df0-c707-a67d0192d371"
      },
      "source": [
        "#Programa que armazena o nome e a nota do aluno e a compara a media \n",
        "# N < 5: Reprovado\n",
        "# 5<=N<7: Recuperação\n",
        "#7 <= N: Aprovado\n",
        "\n",
        "dicionario = {}\n",
        "dicionario['nome'] =  str(input(\"Nome do aluno: \"))\n",
        "dicionario['media'] = float(input(\"Media do aluno : \"))\n",
        "\n",
        "if dicionario['media'] >= 7:\n",
        "  dicionario['situação'] = \"Aprovado\"\n",
        "elif 5<=dicionario['media']<7:\n",
        "  dicionario['situação'] = \"Recuperação\"\n",
        "else:\n",
        "  dicionario['situação'] = \"Reprovado\"\n",
        "\n",
        "for a, b in dicionario.items():\n",
        "  print(f'- {a} é igual a {b}')\n",
        "    "
      ],
      "execution_count": 6,
      "outputs": [
        {
          "output_type": "stream",
          "name": "stdout",
          "text": [
            "Nome do aluno: Carlos\n",
            "Media do aluno : 5.0\n",
            "- nome é igual a Carlos\n",
            "- media é igual a 5.0\n",
            "- situação é igual a Recuperação\n"
          ]
        }
      ]
    },
    {
      "cell_type": "code",
      "metadata": {
        "colab": {
          "base_uri": "https://localhost:8080/"
        },
        "id": "yTG3oCHTplbi",
        "outputId": "ec639e98-a97c-4f9a-db6d-f01b61d002ec"
      },
      "source": [
        "#Jogo de dados para 4 jogadores , ganha quem tirar o maior numero \n",
        "from random import randint\n",
        "from time import sleep\n",
        "from operator import itemgetter\n",
        "\n",
        "jogo = {'Jogador 1 ': randint(1,6),\n",
        "        'Jogador 2 ': randint(1,6),\n",
        "        'Jogador 3 ': randint(1,6),\n",
        "        'Jogador 4 ': randint(1,6),}\n",
        "ranking = list\n",
        "\n",
        "\n",
        "for k,v in jogo.items():\n",
        "  print(f'{k} tirou {v} no dado. ')\n",
        "  sleep(1)\n",
        "\n",
        "print(\" RANKING DOS JOGADORES \")\n",
        "\n",
        "ranking = sorted(jogo.items(),key = itemgetter(1), reverse = True )\n",
        "\n",
        "print(ranking)\n",
        "for i, v in enumerate(ranking):\n",
        "  print(f'{i+1} lugar: {v[0]} com {v[1]}. ')\n",
        "  sleep(1)"
      ],
      "execution_count": 19,
      "outputs": [
        {
          "output_type": "stream",
          "name": "stdout",
          "text": [
            "Jogador 1  tirou 6 no dado. \n",
            "Jogador 2  tirou 4 no dado. \n",
            "Jogador 3  tirou 3 no dado. \n",
            "Jogador 4  tirou 6 no dado. \n",
            " RANKING DOS JOGADORES \n",
            "[('Jogador 1 ', 6), ('Jogador 4 ', 6), ('Jogador 2 ', 4), ('Jogador 3 ', 3)]\n",
            "1 lugar: Jogador 1  com 6. \n",
            "2 lugar: Jogador 4  com 6. \n",
            "3 lugar: Jogador 2  com 4. \n",
            "4 lugar: Jogador 3  com 3. \n"
          ]
        }
      ]
    }
  ]
}
