{
  "nbformat": 4,
  "nbformat_minor": 0,
  "metadata": {
    "colab": {
      "name": "Untitled1.ipynb",
      "provenance": [],
      "authorship_tag": "ABX9TyMQ94iIdISa4kWXrbp2szCw",
      "include_colab_link": true
    },
    "kernelspec": {
      "name": "python3",
      "display_name": "Python 3"
    },
    "language_info": {
      "name": "python"
    }
  },
  "cells": [
    {
      "cell_type": "markdown",
      "metadata": {
        "id": "view-in-github",
        "colab_type": "text"
      },
      "source": [
        "<a href=\"https://colab.research.google.com/github/Jenkidamaa/Projetos-Python/blob/main/Opera%C3%A7%C3%B5es%20com%20matriz%20(vari%C3%A1veis%20multidimensionais)%20.ipynb\" target=\"_parent\"><img src=\"https://colab.research.google.com/assets/colab-badge.svg\" alt=\"Open In Colab\"/></a>"
      ]
    },
    {
      "cell_type": "code",
      "metadata": {
        "id": "7QsN7oJQEVFx"
      },
      "source": [
        "def matriz():\n",
        "  M = []\n",
        "  a = list\n",
        "  while a != []:\n",
        "    if a == []:\n",
        "      return M\n",
        "    else:\n",
        "      a = list(input())\n",
        "      for i in range(1,len(a),2):\n",
        "        del(a[i])\n",
        "      M.append(a)\n",
        "  return M\n"
      ],
      "execution_count": null,
      "outputs": []
    },
    {
      "cell_type": "code",
      "metadata": {
        "id": "DkVw6ihH26vT"
      },
      "source": [
        "def lê_matriz():\n",
        "  M = []\n",
        "  while True:\n",
        "    temp = input().split()\n",
        "    if temp == []:\n",
        "      return M\n",
        "    linha = []\n",
        "    for i in temp:\n",
        "      linha.append(int(i))\n",
        "    M.append(linha)\n"
      ],
      "execution_count": null,
      "outputs": []
    },
    {
      "cell_type": "code",
      "metadata": {
        "id": "XErmvkzI1hzl"
      },
      "source": [
        "def transpor(m):\n",
        "    linha = []\n",
        "    mt = []\n",
        "    linhas = len(m)\n",
        "    colunas = len(m[0])\n",
        "    for i in range(0,colunas,1):\n",
        "        for j in range(0,linhas,1):\n",
        "            linha.append(m[j][i])\n",
        "        mt.append(linha)\n",
        "        linha = []\n",
        "    return print(mt)"
      ],
      "execution_count": 1,
      "outputs": []
    },
    {
      "cell_type": "code",
      "metadata": {
        "id": "VQY-UvViNGni"
      },
      "source": [
        "def soma(m1,m2):\n",
        "    l1 = len(m1)\n",
        "    l2 = len(m2)\n",
        "    c1 = len(m1[0])\n",
        "    c2 = len(m2[0])\n",
        "    m3 = []\n",
        "    linha = []\n",
        "    if l1 == l2 and c1 == c2:\n",
        "        for i in range(0,l1,1):\n",
        "            for j in range(0,c1,1):\n",
        "                linha.append(m1[i][j] + m2[i][j])\n",
        "            m3.append(linha)\n",
        "            linha = []\n",
        "    else:\n",
        "        return print(\"Dimenssões diferentes\")\n",
        "    return m3"
      ],
      "execution_count": null,
      "outputs": []
    },
    {
      "cell_type": "code",
      "metadata": {
        "id": "Ii1LfERKZqL5"
      },
      "source": [
        ""
      ],
      "execution_count": null,
      "outputs": []
    }
  ]
}
