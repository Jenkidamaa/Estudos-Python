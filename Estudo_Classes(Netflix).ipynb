{
  "nbformat": 4,
  "nbformat_minor": 0,
  "metadata": {
    "colab": {
      "name": "Estudo -Classes(Netflix)",
      "provenance": [],
      "authorship_tag": "ABX9TyNJp3TLyak/gFcl/c7RJMs6",
      "include_colab_link": true
    },
    "kernelspec": {
      "name": "python3",
      "display_name": "Python 3"
    },
    "language_info": {
      "name": "python"
    }
  },
  "cells": [
    {
      "cell_type": "markdown",
      "metadata": {
        "id": "view-in-github",
        "colab_type": "text"
      },
      "source": [
        "<a href=\"https://colab.research.google.com/github/Jenkidamaa/Estudos-Python/blob/main/Estudo_Classes(Netflix).ipynb\" target=\"_parent\"><img src=\"https://colab.research.google.com/assets/colab-badge.svg\" alt=\"Open In Colab\"/></a>"
      ]
    },
    {
      "cell_type": "code",
      "source": [
        "#Vamos criar uma classe para clientes\n",
        "class Cliente:\n",
        "  def __init__(self, nome, email,plano):\n",
        "    self.nome = nome\n",
        "    self.email = email\n",
        "    self.lista_planos = ['Basico','Premiun']\n",
        "    if plano in self.lista_planos:\n",
        "      self.plano = plano\n",
        "    else:\n",
        "      raise Exception(\"Plano invalido\")\n",
        "    \n",
        "    def mudar_plano(self, nova_plano):\n",
        "      if novo_plano in self.lista_planos:\n",
        "        self.plano = novo_plano\n",
        "      else:\n",
        "        print(\"Plano invalido\")\n",
        "    def ver_filme(self, filme, plano_filme):\n",
        "      if self.plano == plano_filme:\n",
        "        print(f\"Ver filme {filme}\")\n",
        "      elif self.plano == \"premiun\":\n",
        "        print(f\"Ver filme {filme}\")\n",
        "      elif self.plano == \"basic\" and plano_filme == 'premiun':\n",
        "        print(\"Faça upgrade para premiun para ver esse filme.\")\n",
        "      else:\n",
        "        print(\"Plano invalido.\")        \n",
        "\n",
        "\n",
        "\n",
        "    #def ver_filme(self, filme):\n",
        "\n",
        "\n",
        "cliente = Cliente(\"José Aldo\", \"abc@email.com\",\"Bx\" )\n",
        "\n",
        "print(cliente.plano)\n",
        "\n",
        "cliente.ver_filme(\"Fuga de Alcatraz\",\"Premiun\")\n",
        "cliente.mudar_plano(\"Premiun\")\n",
        "print(cliente.plano)"
      ],
      "metadata": {
        "id": "KLMwAbOcM23G"
      },
      "execution_count": null,
      "outputs": []
    },
    {
      "cell_type": "code",
      "source": [
        ""
      ],
      "metadata": {
        "id": "gZPtEUXxMj-_"
      },
      "execution_count": null,
      "outputs": []
    },
    {
      "cell_type": "code",
      "source": [
        ""
      ],
      "metadata": {
        "id": "h-45eBeyMc9W"
      },
      "execution_count": null,
      "outputs": []
    },
    {
      "cell_type": "code",
      "source": [
        ""
      ],
      "metadata": {
        "id": "QHuOMbI_MYMv"
      },
      "execution_count": null,
      "outputs": []
    },
    {
      "cell_type": "code",
      "source": [
        ""
      ],
      "metadata": {
        "id": "3mY2nDRWMTjq"
      },
      "execution_count": null,
      "outputs": []
    },
    {
      "cell_type": "code",
      "source": [
        ""
      ],
      "metadata": {
        "id": "bqDVANQcQ87W"
      },
      "execution_count": null,
      "outputs": []
    },
    {
      "cell_type": "code",
      "source": [
        ""
      ],
      "metadata": {
        "id": "w69Blpl1Q7YV"
      },
      "execution_count": null,
      "outputs": []
    },
    {
      "cell_type": "code",
      "source": [
        ""
      ],
      "metadata": {
        "id": "Bagtse5uQ5QN"
      },
      "execution_count": null,
      "outputs": []
    },
    {
      "cell_type": "code",
      "source": [
        ""
      ],
      "metadata": {
        "id": "tSilGQwoQsr1"
      },
      "execution_count": null,
      "outputs": []
    },
    {
      "cell_type": "code",
      "source": [
        ""
      ],
      "metadata": {
        "id": "g76XGWO0QpNt"
      },
      "execution_count": null,
      "outputs": []
    },
    {
      "cell_type": "code",
      "source": [
        ""
      ],
      "metadata": {
        "id": "71oJxRHuQaj-"
      },
      "execution_count": null,
      "outputs": []
    },
    {
      "cell_type": "code",
      "source": [
        ""
      ],
      "metadata": {
        "id": "Ce3loPJIQXwt"
      },
      "execution_count": null,
      "outputs": []
    },
    {
      "cell_type": "code",
      "source": [
        ""
      ],
      "metadata": {
        "id": "8doEvBZZQP0v"
      },
      "execution_count": null,
      "outputs": []
    },
    {
      "cell_type": "code",
      "source": [
        ""
      ],
      "metadata": {
        "id": "ow9kajK1PPNd"
      },
      "execution_count": null,
      "outputs": []
    },
    {
      "cell_type": "code",
      "source": [
        ""
      ],
      "metadata": {
        "id": "ATtQrzr7PAip"
      },
      "execution_count": null,
      "outputs": []
    }
  ]
}