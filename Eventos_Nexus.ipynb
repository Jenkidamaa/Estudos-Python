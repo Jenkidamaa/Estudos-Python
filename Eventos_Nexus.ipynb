{
  "nbformat": 4,
  "nbformat_minor": 0,
  "metadata": {
    "colab": {
      "name": "Eventos Nexus",
      "provenance": [],
      "authorship_tag": "ABX9TyO8rJqewfGE4TPbFoLLf8NX",
      "include_colab_link": true
    },
    "kernelspec": {
      "name": "python3",
      "display_name": "Python 3"
    },
    "language_info": {
      "name": "python"
    }
  },
  "cells": [
    {
      "cell_type": "markdown",
      "metadata": {
        "id": "view-in-github",
        "colab_type": "text"
      },
      "source": [
        "<a href=\"https://colab.research.google.com/github/Jenkidamaa/Projetos-Python/blob/main/Eventos_Nexus.ipynb\" target=\"_parent\"><img src=\"https://colab.research.google.com/assets/colab-badge.svg\" alt=\"Open In Colab\"/></a>"
      ]
    },
    {
      "cell_type": "code",
      "metadata": {
        "colab": {
          "base_uri": "https://localhost:8080/"
        },
        "id": "hkSwVQVrhDeG",
        "outputId": "ac264bd7-4caa-48bf-e8de-eb9aa2c3c975"
      },
      "source": [
        "matriz = []\n",
        "linha = []\n",
        "\n",
        "for i in range(0,11,1):\n",
        "  linha = list(input())\n",
        "  matriz.append(linha)\n",
        "  linha = []\n"
      ],
      "execution_count": 64,
      "outputs": [
        {
          "name": "stdout",
          "output_type": "stream",
          "text": [
            "............+...............+.....+...............\n",
            "...........+.................+...+................\n",
            ".........++...................+.+.................\n",
            "........+......................+..................\n",
            "........+......................+..................\n",
            "##################################################\n",
            "..................................................\n",
            "..................................................\n",
            "..................................................\n",
            "..................................................\n",
            "..................................................\n"
          ]
        }
      ]
    },
    {
      "cell_type": "code",
      "metadata": {
        "colab": {
          "base_uri": "https://localhost:8080/"
        },
        "id": "ycZHviqdnEuf",
        "outputId": "d07b3a98-3584-4aef-ca01-ba3d3a4bd2cb"
      },
      "source": [
        "armazenas = []\n",
        "amazenasi = []\n",
        "for i in range(0,50,1):\n",
        "  if matriz[4][i] == \"+\":\n",
        "    armazenas.append(i)\n",
        "for i in range(0,50,1):\n",
        "  if matriz[6][i] == \"+\":\n",
        "    armazenai.append(i)\n",
        "print(armazenas)\n",
        "print(amazenasi)\n"
      ],
      "execution_count": 32,
      "outputs": [
        {
          "output_type": "stream",
          "name": "stdout",
          "text": [
            "[8, 31]\n",
            "[]\n"
          ]
        }
      ]
    },
    {
      "cell_type": "code",
      "metadata": {
        "id": "BdkWBsiHoB5v",
        "colab": {
          "base_uri": "https://localhost:8080/"
        },
        "outputId": "3bf70cc3-cb3d-4c9d-9e53-0fc6cf73b669"
      },
      "source": [
        "cord3 = []\n",
        "for var in armazenas:\n",
        "  for i in range(-1,2,1):\n",
        "    a = var + i\n",
        "    \n",
        "   \n",
        "    if matriz[3][(a)] == \"+\":\n",
        "      cord3.append(a)\n",
        "      print(a)\n",
        "      \n",
        "      \n",
        "      \n",
        "print(cord3)"
      ],
      "execution_count": 48,
      "outputs": [
        {
          "output_type": "stream",
          "name": "stdout",
          "text": [
            "9\n",
            "30\n",
            "32\n",
            "[9, 30, 32]\n"
          ]
        }
      ]
    },
    {
      "cell_type": "code",
      "metadata": {
        "colab": {
          "base_uri": "https://localhost:8080/"
        },
        "id": "WrAAM4ECHAa-",
        "outputId": "427e0b72-8895-4d05-dc5e-80d3ff870a0b"
      },
      "source": [
        "#para \n",
        "cord3x = []\n",
        "cord2 = []\n",
        "for var in cord3:\n",
        "  for j in range(3,1,-1):\n",
        "    for i in range(-2,1,1):\n",
        "      if j ==3:\n",
        "        if matriz[3][var+i] == \"+\":\n",
        "          cord3x.append(var)\n",
        "          \n",
        "      if j == 2:\n",
        "        if matriz[2][var+i] == \"+\":\n",
        "          cord2.append(var)\n",
        "          \n",
        "\n",
        "print(cord3x)\n",
        "print(cord2)"
      ],
      "execution_count": 51,
      "outputs": [
        {
          "output_type": "stream",
          "name": "stdout",
          "text": [
            "[9, 30, 32, 32]\n",
            "[30]\n"
          ]
        }
      ]
    },
    {
      "cell_type": "code",
      "metadata": {
        "colab": {
          "base_uri": "https://localhost:8080/"
        },
        "id": "lGRm1_HTLUmj",
        "outputId": "86a71b2a-6ef9-4c18-bb52-855a2fa9d4d3"
      },
      "source": [
        "ind_linha = []\n",
        "ind_colu = []\n",
        "for i in range(0,11,1):\n",
        "  for j in range(0,50,1):\n",
        "    if matriz[i][j]==\"+\":\n",
        "      ind_linha.append(i)\n",
        "      ind_colu.append(j)\n",
        "print(ind_linha)\n",
        "print(ind_colu)"
      ],
      "execution_count": 76,
      "outputs": [
        {
          "output_type": "stream",
          "name": "stdout",
          "text": [
            "[0, 0, 0, 1, 1, 1, 2, 2, 2, 2, 3, 3, 4, 4]\n",
            "[12, 28, 34, 11, 29, 33, 9, 10, 30, 32, 8, 31, 8, 31]\n"
          ]
        }
      ]
    },
    {
      "cell_type": "code",
      "metadata": {
        "colab": {
          "base_uri": "https://localhost:8080/"
        },
        "id": "A4ZZfJSWtuF2",
        "outputId": "44983667-d0de-46fd-b14c-ec30ce1e0238"
      },
      "source": [
        "print(matriz[10][32])"
      ],
      "execution_count": 68,
      "outputs": [
        {
          "output_type": "stream",
          "name": "stdout",
          "text": [
            ".\n"
          ]
        }
      ]
    }
  ]
}