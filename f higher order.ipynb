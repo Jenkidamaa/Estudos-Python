{
  "nbformat": 4,
  "nbformat_minor": 0,
  "metadata": {
    "colab": {
      "name": "Untitled6.ipynb",
      "provenance": [],
      "toc_visible": true,
      "authorship_tag": "ABX9TyPU8Ej0fCEB0wWcLcyPqJ61",
      "include_colab_link": true
    },
    "kernelspec": {
      "name": "python3",
      "display_name": "Python 3"
    },
    "language_info": {
      "name": "python"
    }
  },
  "cells": [
    {
      "cell_type": "markdown",
      "metadata": {
        "id": "view-in-github",
        "colab_type": "text"
      },
      "source": [
        "<a href=\"https://colab.research.google.com/github/Jenkidamaa/Estudos-Python/blob/main/f%20higher%20order.ipynb\" target=\"_parent\"><img src=\"https://colab.research.google.com/assets/colab-badge.svg\" alt=\"Open In Colab\"/></a>"
      ]
    },
    {
      "cell_type": "markdown",
      "source": [
        "# Funções em Python\n",
        "\n",
        "Ao contrario de outras linguagens como C, todas as funções em Python são consideradas de primeira classe, melhor definindo **\"funções como objetos de primeira classe\"**.\n",
        "\n",
        "Para exemplificação das caracteristicas utilizaremos uma função primitiva e simples a fatorial:\n",
        "\n",
        "\n",
        "\n",
        "```\n",
        "def fatorial(n):\n",
        "  return 1 if n<2 else n*fatorial(n-1)\n",
        "\n",
        "```\n",
        "\n",
        "Primeiro fato implicado é a utilização da função como objeto, dessa forma podemos atribuila a uma variavel como mostra o exemplo a seguir:\n",
        "\n",
        "\n",
        "\n",
        "```\n",
        "fat = fatorial\n",
        "print(fat(8))\n",
        "\n",
        "```\n",
        "Com esse fato podemos inserir o contexto de programação funcional, que utiliza como base as *higher-order-functions*, como *map*, *list*:\n",
        "\n",
        "```\n",
        "map(fat(n))\n",
        "\n",
        "list(map(fat(n))\n",
        "\n",
        "```\n"
      ],
      "metadata": {
        "id": "CTiE8Qlj5535"
      }
    },
    {
      "cell_type": "code",
      "source": [
        ""
      ],
      "metadata": {
        "id": "VHHxGdD77N5e"
      },
      "execution_count": null,
      "outputs": []
    }
  ]
}