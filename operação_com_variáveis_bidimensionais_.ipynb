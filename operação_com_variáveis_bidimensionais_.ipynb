{
  "nbformat": 4,
  "nbformat_minor": 0,
  "metadata": {
    "colab": {
      "name": "operação com variáveis bidimensionais .ipynb",
      "provenance": [],
      "authorship_tag": "ABX9TyOIzEGWiZ7XcpPYXrGwCDAF",
      "include_colab_link": true
    },
    "kernelspec": {
      "name": "python3",
      "display_name": "Python 3"
    },
    "language_info": {
      "name": "python"
    }
  },
  "cells": [
    {
      "cell_type": "markdown",
      "metadata": {
        "id": "view-in-github",
        "colab_type": "text"
      },
      "source": [
        "<a href=\"https://colab.research.google.com/github/Jenkidamaa/Projetos-Python/blob/main/opera%C3%A7%C3%A3o_com_vari%C3%A1veis_bidimensionais_.ipynb\" target=\"_parent\"><img src=\"https://colab.research.google.com/assets/colab-badge.svg\" alt=\"Open In Colab\"/></a>"
      ]
    },
    {
      "cell_type": "code",
      "metadata": {
        "id": "7QsN7oJQEVFx"
      },
      "source": [
        "def matriz():\n",
        "  M = []\n",
        "  a = list\n",
        "  while a != []:\n",
        "    if a == []:\n",
        "      return M\n",
        "    else:\n",
        "      a = list(input())\n",
        "      for i in range(1,len(a),2):\n",
        "        del(a[i])\n",
        "      M.append(a)\n",
        "  return M\n"
      ],
      "execution_count": null,
      "outputs": []
    },
    {
      "cell_type": "code",
      "metadata": {
        "id": "DkVw6ihH26vT"
      },
      "source": [
        "def lê_matriz():\n",
        "  M = []\n",
        "  while True:\n",
        "    temp = input().split()\n",
        "    if temp == []:\n",
        "      return M\n",
        "    linha = []\n",
        "    for i in temp:\n",
        "      linha.append(int(i))\n",
        "    M.append(linha)\n"
      ],
      "execution_count": null,
      "outputs": []
    },
    {
      "cell_type": "code",
      "metadata": {
        "id": "XErmvkzI1hzl"
      },
      "source": [
        "def transpor(m):\n",
        "    linha = []\n",
        "    mt = []\n",
        "    linhas = len(m)\n",
        "    colunas = len(m[0])\n",
        "    for i in range(0,colunas,1):\n",
        "        for j in range(0,linhas,1):\n",
        "            linha.append(m[j][i])\n",
        "        mt.append(linha)\n",
        "        linha = []\n",
        "    return print(mt)"
      ],
      "execution_count": null,
      "outputs": []
    },
    {
      "cell_type": "code",
      "metadata": {
        "id": "VQY-UvViNGni"
      },
      "source": [
        "def soma(m1,m2):\n",
        "    l1 = len(m1)\n",
        "    l2 = len(m2)\n",
        "    c1 = len(m1[0])\n",
        "    c2 = len(m2[0])\n",
        "    m3 = []\n",
        "    linha = []\n",
        "    if l1 == l2 and c1 == c2:\n",
        "        for i in range(0,l1,1):\n",
        "            for j in range(0,c1,1):\n",
        "                linha.append(m1[i][j] + m2[i][j])\n",
        "            m3.append(linha)\n",
        "            linha = []\n",
        "    else:\n",
        "        return print(\"Dimenssões diferentes\")\n",
        "    return m3"
      ],
      "execution_count": null,
      "outputs": []
    },
    {
      "cell_type": "code",
      "metadata": {
        "id": "Ii1LfERKZqL5"
      },
      "source": [
        "def multi(m1,m2):\n",
        "    l1 = len(m1)\n",
        "    l2 = len(m2)\n",
        "    c1 = len(m1[0])\n",
        "    c2 = len(m2[0])\n",
        "    m3 = [] #matriz resultante\n",
        "    a = 0\n",
        "    b = 0\n",
        "    linha = []\n",
        "    if  c1 == l2 :\n",
        "        #laço superior que determinara as dimenssões da matriz resultante\n",
        "\n",
        "        acu = 0\n",
        "        while   acu < l1:\n",
        "            while a < c2: #Numero de linhas da matriz resultante\n",
        "                while b < c2: #Numero de colunas da matriz resultante\n",
        "                    for i in range(0,l1+1,1):\n",
        "                        for j in range(0,c1+1,1):\n",
        "                            print(i,j,a,b)\n",
        "\n",
        "                    b = b + 1\n",
        "                a = a + 1\n",
        "            print(30 * \"-\")\n",
        "            print(acu)\n",
        "            print(i, j, a, b)\n",
        "            print(30*\"-\")\n",
        "            a = 0\n",
        "            b = 0\n",
        "            i = 0\n",
        "            j = 0\n",
        "            acu = acu + 1\n",
        "\n",
        "    else:\n",
        "        return print(\"Dimenssões diferentes\")\n",
        "    return m3\n",
        "\n",
        "a = [[1,2,3],[4,5,6]]\n",
        "b = [[1],[3],[5]]\n",
        "\n",
        "\n",
        "print(multi(a,b))\n",
        "\n",
        "\n",
        "#Linha x [i][j]x[j][i]+[i][j]x[j][i]+[i][j]x[j][i]+[i][j]x[j][i]       [i][j]x[j][i]+[i][j]x[j][i]+[i][j]x[j][i]+[i][j]x[j][i]\n",
        "#        [i][j]x[b][a]+[i][j]x[b][a]+[i][j]x[b][a]+[i][j]x[b][a]       [i][j]x[b][a]+[i][j]x[b][a]+[i][j]x[b][a]+[i][j]x[b][a]\n",
        "#Linha 1 [0][0]x[0][0]+[0][1]x[1][0]+[0][2]x[2][0]+[0][3]x[3][0]       [0][0]x[0][1]+[0][1]x[1][1]+[0][2]x[2][1]+[0][3]x[3][1]\n",
        "#Linha 2 [1][0]x[0][0]+[1][1]x[1][0]+[1][2]x[2][0]+[1][3]x[3][0]       [1][0]x[0][1]+[1][1]x[1][1]+[1][2]x[2][1]+[1][3]x[3][1]\n",
        "#Linha 3 [2][0]x[0][0]+[2][1]x[1][0]+[2][2]x[2][0]+[2][3]x[3][0]       [2][0]x[0][1]+[2][1]x[1][1]+[2][2]x[2][1]+[2][3]x[3][1]"
      ],
      "execution_count": null,
      "outputs": []
    }
  ]
}